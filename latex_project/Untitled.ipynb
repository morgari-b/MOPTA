{
 "cells": [
  {
   "cell_type": "code",
   "execution_count": null,
   "id": "357e71c6-f001-445e-a53c-8f23ccc77318",
   "metadata": {},
   "outputs": [],
   "source": []
  },
  {
   "cell_type": "markdown",
   "id": "c86401b5-0db0-4d80-9592-d1ad8cf21903",
   "metadata": {},
   "source": [
    "\\\\\n",
    "\n",
    "While obtaining a feasible solution to $LP_{\\cT}$ from the aggregated $LP_P$ is not always guaranteed, it is possible under certain assumptions."
   ]
  },
  {
   "cell_type": "markdown",
   "id": "cc49a773-10b7-4af8-806a-2d6a699f8d6f",
   "metadata": {},
   "source": [
    "\n",
    "\\begin{observation}\\label{ob:aggrconstr}\n",
    "\n",
    "If $(\\rowP, \\colP)$ is a structure-preserving aggregation, let $R \\in \\rowP$ and $r \\in R$. Let \\(\\tilde{x}\\) be a solution to the aggregated problem \\eqref{eq:LPaggr}. If \\(\\tilde{b}_r - \\tilde{A}_{R, \\colP_{=1}} \\tilde{x}_{\\colP_{=1}} \\neq 0\\), define \\(\\rho_r \\coloneqq \\frac{b_r - A_{r, \\colP_{=1}} \\tilde{x}_{\\colP_{=1}}}{\\tilde{b}_r\n",
    " - \\tilde{A}_{R, \\colP_{=1}} \\tilde{x}_{\\colP_{=1}}}\\). If \\(A_{r, \\colP_{=1}} = 0\\) and \\(b_r = 0\\), then \\(\\rho_r\\) can be chosen arbitrarily. \n",
    "If \\(\\rho_r \\geq 0\\) and \\(x \\in \\bR^n\\) satisfies \\(x_{\\colP_{=1}} = \\tilde{x}_{\\colP_{=1}}\\) and \\(x_{f^r(C)} = \\rho_r \\tilde{x}_C\\) for all \\(C \\in \\supp(\\tilde{A}_R)_{>1}\\), then \\(x\\) satisfies the constraint \\(A_r x = b_r\\) of the original problem.\n",
    "\\end{observation}\n"
   ]
  },
  {
   "cell_type": "markdown",
   "id": "e4f284b0-4bd1-45ce-9787-04c7227f221f",
   "metadata": {},
   "source": [
    "\n",
    "\\begin{proof}\n",
    "From the hypothesis and the definition of structure-preserving aggregation, we have:\n",
    "\\begin{align*}\n",
    "A_r x &= \\sum_{i \\in \\supp(A_r)} A_{r,i} x_i \\\\\n",
    "&= \\sum_{S \\in \\supp(\\tilde{A}_R)_{>1}} A_{r,f^r(S)} x_{f^r(S)} + \n",
    "\\sum_{j \\in \\colP_{=1}} A_{r,j} x_j \\\\\n",
    "&= \\sum_{S \\in \\supp(\\tilde{A}_R)_{>1}} \\tilde{A}_{R,S} \\rho_r \\tilde{x}_S + \n",
    "\\sum_{j \\in \\colP_{=1}} A_{r,j} x_j\n",
    "\\end{align*}"
   ]
  },
  {
   "cell_type": "markdown",
   "id": "a07435a9-263c-4a3e-902a-49e2e0cef98f",
   "metadata": {},
   "source": []
  },
  {
   "cell_type": "markdown",
   "id": "2fcbf801-501e-4fd2-bb87-d9fb5f8fcfe0",
   "metadata": {},
   "source": [
    "\n",
    "\n",
    "By the definition of \\(\\rho_r\\):\n",
    "\\begin{align*}\n",
    "\\rho_r \\sum_{S \\in \\supp(\\tilde{A}_R)_{>1}} \\tilde{A}_{R,S} \\tilde{x}_S \n",
    "&= \\rho_r (\\tilde{A}_R \\tilde{x} - \\tilde{A}_{R,\\colP_{=1}} \\tilde{x}_{\\colP_{=1}}) \\\\\n",
    "&= \\rho_r (\\tilde{b}_R - \\tilde{A}_{R,\\colP_{=1}} \\tilde{x}_{\\colP_{=1}}) \\\\\n",
    "&= b_r - A_{r, \\colP_{=1}} \\tilde{x}_{\\colP_{=1}}\n",
    "\\end{align*}\n",
    "\n",
    "Thus, we obtain:\n",
    "\\[\n",
    "A_r x = b_r\n",
    "\\]\n",
    "\\qed\n",
    "\\end{proof}\n",
    "\n",
    "A structure-preserving aggregation does not inherently guarantee feasibility for all constraints in the original problem. However, Observation \\ref{ob:aggrconstr} illustrates how to partially reconstruct a solution \\(x\\) for a specific constraint \\(r\\) by appropriately scaling the aggregated variables within the support of \\(A_r\\). \n",
    "\n",
    "We can now define the hypergraph associated to the aggregation \\((\\rowP, \\colP)\\).\n",
    "\\begin{definition}\n",
    "  The \\emph{hypergraph associated to the aggregation \\((\\rowP, \\colP)\\)} is the hypergraph \\(\\cN, \\cE\\) having as nodes the aggregated variables \\(\\cN \\coloneqq \\colP_{>1}\\) and as edges the subsest of \\(\\cN\\) that appear together in not row-agnostic constraints.\n",
    "\\end{definition}\n",
    "\n",
    "When two edges (constraints) in the hypergraph, \\(r\\) and \\(r'\\), share aggregated variables, the scaling factors \\(\\rho_r\\) and \\(\\rho_{r'}\\) must be equal to maintain consistency. \n",
    "Then if \\(\\rho_r\\) can be defined consistently, by applying observation \\ref{ob:aggrconstr}, to all \\(r \\in R \\in \\rowP_{>1}\\) we can construct a feasible solution for the unaggregated problem \\eqref{eq:LPunaggr}. Thus we have: \n",
    "\\begin{proposition}\n",
    "\\label{prop:xaggfeasible}\n",
    "If \\((\\rowP, \\colP)\\) is a structure-preserving aggregation. Let \\(\\tilde{x}\\) be a solution \n",
    "to the aggregated problem \\eqref{eq:LPaggr}. If for all \\(r \\in R \\in \\rowP_{>1}\\) such that  \\(\\tilde{b}_r - \\tilde{A}_{R, \\colP_{=1}} \\tilde{x}_{\\colP_{=1}} = 0\\) we have \\(A_{r,\\colP_{=1}} = 0\\) and \\(b_r=0\\).\n",
    "Define \\(\\rho_r \\coloneqq \\frac{b_r - A_{r, \\colP_{=1}} \\tilde{x}_{\\colP_{=1}}}{\\tilde{b}_R - \\tilde{A}_{R, \\colP_{=1}} \\tilde{x}_{\\colP_{=1}}}\\) for all \\(r \\in R \\in \\rowP_{>1}\\) such that   \\(\\tilde{b}_r - \\tilde{A}_{R, \\colP_{=1}} \\tilde{x}_{\\colP_{=1}} \\neq 0\\). If \\(\\rho_r \\geq 0\\) and is constant over the connected components of the hypergraph associated to \\((\\rowP, \\colP)\\). \n",
    "Then \\(x_{\\colP_{=1}} \\coloneqq \\tilde{x}_{\\colP_{=1}}\\) and \\(x_{f^r(C)} \\coloneqq \\rho_r \\tilde{x}_C\\) for all \\(C \\in \\supp(\\tilde{A}_R)\\) and \\(C \\in \\colP_{>1}\\) is well defined and is feasible solution for the unaggregated problem \\eqref{eq:LP}.\n",
    "\\end{proposition}\n",
    "\n",
    "\n",
    "While row aggregation of a linear problem is a relaxation of the original problem, the same does not apply to column aggregation. However, the column aggregation used for the  Capacity Expansion Problem in this work is still a relaxation. In general a column aggregation of a linear problem is a relaxation of the original problem whenever it is a \\emph{constant-coefficients column aggregation}, that is:\n",
    "\n",
    "\n",
    "It can be easily checked that:\n",
    "\n",
    "\\begin{observation}\n",
    "  The aggregation of the Capacity Expansion Problem (CEP) is a structure-preserving aggregation with constant coefficients. Furthermore, the constraints \\eqref{eq:delta_hydrogen_constraints} are \\(\\rho\\)-agnostic.\n",
    "\\end{observation}\n",
    "\n",
    "Since the only constraints linking variables across different time steps are those in \\eqref{eq:delta_hydrogen_constraints}, the connected components of the hypergraph representing the aggregation correspond to the hypergraphs of the Energy Dispatch (ED) at each time step. Specifically, there is one connected component per time step, with nodes representing the variables at that step. To construct a feasible solution from the aggregated problem, it is sufficient for \\(\\rho_r\\) to be constant across constraints within the same time step.\n",
    "\n",
    "Using the definition of \\(\\rho_r\\), it can be shown that for each time step \\(t \\in T \\in \\cT\\), this corresponds to the ratio between the net energy production at time \\(t\\) and the net energy production over the interval \\(T\\). Hence, the conditions of Proposition \\ref{prop:xaggfeasible} are met if, for a fixed time step \\(t\\), this ratio is the same for all nodes in the network, and if, during the interval \\(T\\), the net production at each node is consistently positive or consistently negative. Thus, we state:\n",
    "\n",
    "\\begin{observation}\n",
    "  \\label{obs:cep_agg_feasible}\n",
    "  If for each time step \\(t \\in T \\in \\cT\\), the ratio of the net energy production at time \\(t\\) to the net energy production over the interval \\(T\\) is the same for all nodes in the network, and if, throughout the interval \\(T\\), the net production at each node is either always positive or always negative, then the aggregated problem is exact.\n",
    "\\end{observation}\n",
    "\n",
    "Although this is not generally the case, it suggests an iterative procedure for refining the solution of the aggregated problem. At each iteration, we refine the time partition of the aggregated problem, selecting the time interval to be refined based on the extent to which it violates the conditions of Observation \\ref{obs:cep_agg_feasible}. Specifically, we split intervals where the net production changes sign, and those intervals \\(T\\) in which, for a fixed time step \\(t \\in T\\), the ratio between the net energy production at time \\(t\\) and the net energy production over the interval \\(T\\) exhibits the largest variance.\n",
    "\n",
    "}\n",
    "\n",
    "\n",
    "\n",
    "\n",
    "\n",
    "\n",
    "\n",
    "\n",
    "\n",
    "\n",
    "\n",
    "\n",
    "\n",
    "\n",
    "\n",
    "\n",
    "\n",
    "\n",
    "\n",
    "\n",
    "\n",
    "\n",
    "\n",
    "\n",
    "\n"
   ]
  },
  {
   "cell_type": "code",
   "execution_count": null,
   "id": "586506c2-0290-47c9-ab0e-5a65a549dd03",
   "metadata": {},
   "outputs": [],
   "source": []
  }
 ],
 "metadata": {
  "kernelspec": {
   "display_name": "Python 3 (ipykernel)",
   "language": "python",
   "name": "python3"
  },
  "language_info": {
   "codemirror_mode": {
    "name": "ipython",
    "version": 3
   },
   "file_extension": ".py",
   "mimetype": "text/x-python",
   "name": "python",
   "nbconvert_exporter": "python",
   "pygments_lexer": "ipython3",
   "version": "3.11.7"
  }
 },
 "nbformat": 4,
 "nbformat_minor": 5
}
